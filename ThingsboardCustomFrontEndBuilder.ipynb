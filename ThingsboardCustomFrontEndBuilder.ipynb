{
 "cells": [
  {
   "cell_type": "code",
   "execution_count": null,
   "metadata": {},
   "outputs": [],
   "source": [
    "import time\n",
    "import os\n",
    "\n",
    "def clear(): \n",
    "    if os.name == 'nt': \n",
    "        _ = os.system('cls') \n",
    "  \n",
    "    else: \n",
    "        _ = os.system('clear') \n",
    "\n",
    "time.sleep(0.5)\n",
    "print('================================================')\n",
    "time.sleep(0.5)\n",
    "print('======Thingsboard Front End Custom Builder======')\n",
    "time.sleep(0.5)\n",
    "print('===========v1_DPTE UPI - @l0wpassfilter=========')\n",
    "time.sleep(0.5)\n",
    "print('================================================')\n",
    "time.sleep(0.5)\n",
    "print()\n",
    "print()\n",
    "\n",
    "input('Press enter to continue...')\n",
    "clear()"
   ]
  },
  {
   "cell_type": "code",
   "execution_count": null,
   "metadata": {},
   "outputs": [],
   "source": [
    "time.sleep(0.5)\n",
    "print(\"Make sure you've put your compiled ui-ngx.jar\")\n",
    "time.sleep(0.5)\n",
    "print(\"file to put_ui-ngx_here folder\")\n",
    "time.sleep(0.5)\n",
    "input('Press enter to continue...')"
   ]
  },
  {
   "cell_type": "code",
   "execution_count": null,
   "metadata": {},
   "outputs": [],
   "source": [
    "#Get thingsboard.jar and thingsboard.yml\n",
    "\n",
    "time.sleep(0.5)\n",
    "print(\"Getting thingsboard.jar and thingsboard.yml files\")\n",
    "\n",
    "os.system('./script.sh getFile')\n",
    "time.sleep(0.5)\n",
    "print(\"Done, copied to copied_file\")\n",
    "time.sleep(0.5)\n",
    "print('================================================')"
   ]
  },
  {
   "cell_type": "code",
   "execution_count": null,
   "metadata": {},
   "outputs": [],
   "source": [
    "#Extract thingsboard.jar\n",
    "\n",
    "time.sleep(0.5)\n",
    "print(\"Extracting thingsboard.jar files\")\n",
    "\n",
    "os.system('./script.sh extractFile')\n",
    "time.sleep(0.5)\n",
    "print(\"Done\")\n",
    "time.sleep(0.5)\n",
    "print('================================================')$"
   ]
  },
  {
   "cell_type": "code",
   "execution_count": null,
   "metadata": {},
   "outputs": [],
   "source": [
    "#Putting ui-ngx and thingsboard.yml to thingsboard_extract\n",
    "\n",
    "time.sleep(0.5)\n",
    "print(\"Putting all the necessary files\")\n",
    "\n",
    "os.system('./script.sh putFile')\n",
    "time.sleep(0.5)\n",
    "print(\"Done\")\n",
    "time.sleep(0.5)\n",
    "print('================================================')"
   ]
  },
  {
   "cell_type": "code",
   "execution_count": null,
   "metadata": {},
   "outputs": [],
   "source": [
    "#Repack as .jar\n",
    "\n",
    "time.sleep(0.5)\n",
    "print(\"Repacking\")\n",
    "\n",
    "os.system('./script.sh pack')\n",
    "time.sleep(0.5)\n",
    "print(\"Done\")\n",
    "time.sleep(0.5)\n",
    "print(\"Repacked to thingsboard.jar on generated_file directory\")\n",
    "time.sleep(0.5)\n",
    "print('================================================')\n",
    "time.sleep(0.5)\n",
    "print('===============Have a Nice Day==================')\n",
    "time.sleep(0.5)\n",
    "print('================================================')\n",
    "time.sleep(0.5)\n",
    "print('exiting program..')"
   ]
  },
  {
   "cell_type": "code",
   "execution_count": null,
   "metadata": {},
   "outputs": [],
   "source": []
  }
 ],
 "metadata": {
  "kernelspec": {
   "display_name": "Python 3",
   "language": "python",
   "name": "python3"
  },
  "language_info": {
   "codemirror_mode": {
    "name": "ipython",
    "version": 3
   },
   "file_extension": ".py",
   "mimetype": "text/x-python",
   "name": "python",
   "nbconvert_exporter": "python",
   "pygments_lexer": "ipython3",
   "version": "3.8.5"
  }
 },
 "nbformat": 4,
 "nbformat_minor": 4
}
